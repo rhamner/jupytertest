def configure_plotly_browser_state():
  import IPython
  display(IPython.core.display.HTML('''
        <script src="/static/components/requirejs/require.js"></script>
        <script>
          requirejs.config({
            paths: {
              base: '/static/base',
              plotly: 'https://cdn.plot.ly/plotly-1.5.1.min.js?noext',
            },
          });
        </script>
        '''))
    
import plotly.plotly as py
import numpy as np
from plotly.offline import init_notebook_mode, iplot
from plotly.graph_objs import Contours, Histogram2dContour, Marker, Scatter

configure_plotly_browser_state()

init_notebook_mode(connected=False)

for i in range(10):
  x = np.random.randn(2000)
  y = np.random.randn(2000)
  iplot([Scatter(x=x, y=y, mode='markers', marker=Marker(color='red', size=5, opacity=0.3))], show_link=False)